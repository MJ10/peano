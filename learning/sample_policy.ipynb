{
 "cells": [
  {
   "cell_type": "code",
   "execution_count": 1,
   "metadata": {},
   "outputs": [],
   "source": [
    "import torch\n",
    "import glob\n",
    "from domain import make_domain\n",
    "from search import run_search_on_batch"
   ]
  },
  {
   "cell_type": "code",
   "execution_count": 7,
   "metadata": {},
   "outputs": [],
   "source": [
    "def get_policy(filename):\n",
    "    policy = torch.load(filename, map_location=torch.device('cpu'))\n",
    "    return policy\n",
    "\n",
    "def get_tactics(filename):\n",
    "    import pickle\n",
    "    with open(filename, 'rb') as f:\n",
    "        tactics = pickle.load(f)\n",
    "    return tactics"
   ]
  },
  {
   "cell_type": "code",
   "execution_count": 30,
   "metadata": {},
   "outputs": [],
   "source": [
    "def get_results(filename, tactics_filename, domain, seeds):\n",
    "    policy = get_policy(filename)\n",
    "    tactics = get_tactics(tactics_filename)\n",
    "    print(len(tactics))\n",
    "    eval_results = run_search_on_batch(\n",
    "        make_domain(domain, tactics),\n",
    "        seeds,\n",
    "        policy,\n",
    "        \"on-policy-sample\",\n",
    "        1000,\n",
    "        18,\n",
    "        output_path=None,\n",
    "        debug=False,\n",
    "        epsilon=0,\n",
    "    )\n",
    "\n",
    "    return eval_results, tactics"
   ]
  },
  {
   "cell_type": "code",
   "execution_count": 22,
   "metadata": {},
   "outputs": [],
   "source": [
    "base_path = \"/network/scratch/m/moksh.jain/peano_experiments/\"\n",
    "exp_name = \"all_cpo\"\n",
    "step_number = 99\n",
    "cpo_filename = glob.glob(f\"{base_path}/{exp_name}/{step_number}.pt\")[0]\n",
    "cpo_tactics_filename = glob.glob(f\"{base_path}/{exp_name}/tactics-{step_number}.pkl\")[0]\n",
    "tb_base_path = \"/network/scratch/m/moksh.jain/peano_experiments/\"\n",
    "tb_exp_name = \"continue_train_partest_3_0.25\"\n",
    "tb_step_number = 20\n",
    "tb_filename = glob.glob(f\"{tb_base_path}/{tb_exp_name}/{tb_step_number}.pt\")[0]\n",
    "tb_tactics_filename = glob.glob(f\"{tb_base_path}/{tb_exp_name}/tactics-{tb_step_number}.pkl\")[0]\n",
    "eval_interval = [1] * 50\n",
    "domain = \"two-step-eq\""
   ]
  },
  {
   "cell_type": "code",
   "execution_count": null,
   "metadata": {},
   "outputs": [],
   "source": [
    "def check_diversity(domain):\n",
    "    cpo_div, tb_div = [], []\n",
    "    for i in range(100):\n",
    "        eval_interval = [i] * 50\n",
    "        cpo_results = get_results(cpo_filename, cpo_tactics_filename, domain, eval_interval)\n",
    "        tb_results = get_results(tb_filename, tb_tactics_filename, domain, eval_interval)\n",
    "        tb_traj_success = [\"+\".join(e.actions) for e in tb_results.episodes if e.success]\n",
    "        cpo_traj_success = [\"+\".join(e.actions) for e in cpo_results.episodes if e.success]\n",
    "        print(f\"Step {i}, Num Unique TB: {len(set(tb_traj_success))}, Num Unique CPO: {len(set(cpo_traj_success))}\")  \n",
    "        cpo_div.append(len(set(cpo_traj_success)))\n",
    "        tb_div.append(len(set(tb_traj_success)))\n",
    "    return cpo_div, tb_div      "
   ]
  },
  {
   "cell_type": "code",
   "execution_count": 6,
   "metadata": {},
   "outputs": [
    {
     "name": "stderr",
     "output_type": "stream",
     "text": [
      "/tmp/ipykernel_1903149/3838689096.py:2: FutureWarning: You are using `torch.load` with `weights_only=False` (the current default value), which uses the default pickle module implicitly. It is possible to construct malicious pickle data which will execute arbitrary code during unpickling (See https://github.com/pytorch/pytorch/blob/main/SECURITY.md#untrusted-models for more details). In a future release, the default value for `weights_only` will be flipped to `True`. This limits the functions that could be executed during unpickling. Arbitrary objects will no longer be allowed to be loaded via this mode unless they are explicitly allowlisted by the user via `torch.serialization.add_safe_globals`. We recommend you start setting `weights_only=True` for any use case where you don't have full control of the loaded file. Please open an issue on GitHub for any issues related to this experimental feature.\n",
      "  policy = torch.load(filename, map_location=torch.device('cuda'))\n",
      "100%|██████████| 50/50 [00:01<00:00, 34.54it/s]\n"
     ]
    },
    {
     "name": "stdout",
     "output_type": "stream",
     "text": [
      "Solved 44/50\n"
     ]
    },
    {
     "name": "stderr",
     "output_type": "stream",
     "text": [
      "100%|██████████| 50/50 [00:34<00:00,  1.46it/s]\n"
     ]
    },
    {
     "name": "stdout",
     "output_type": "stream",
     "text": [
      "Solved 31/50\n",
      "Step 0, Num Unique TB: 1, Num Unique CPO: 1\n"
     ]
    },
    {
     "name": "stderr",
     "output_type": "stream",
     "text": [
      "100%|██████████| 50/50 [00:00<00:00, 104.86it/s]\n"
     ]
    },
    {
     "name": "stdout",
     "output_type": "stream",
     "text": [
      "Solved 49/50\n"
     ]
    },
    {
     "name": "stderr",
     "output_type": "stream",
     "text": [
      "100%|██████████| 50/50 [00:00<00:00, 103.74it/s]\n"
     ]
    },
    {
     "name": "stdout",
     "output_type": "stream",
     "text": [
      "Solved 50/50\n",
      "Step 1, Num Unique TB: 1, Num Unique CPO: 1\n"
     ]
    },
    {
     "name": "stderr",
     "output_type": "stream",
     "text": [
      "100%|██████████| 50/50 [00:00<00:00, 105.62it/s]\n"
     ]
    },
    {
     "name": "stdout",
     "output_type": "stream",
     "text": [
      "Solved 47/50\n"
     ]
    },
    {
     "name": "stderr",
     "output_type": "stream",
     "text": [
      "100%|██████████| 50/50 [00:00<00:00, 104.01it/s]\n"
     ]
    },
    {
     "name": "stdout",
     "output_type": "stream",
     "text": [
      "Solved 50/50\n",
      "Step 2, Num Unique TB: 1, Num Unique CPO: 1\n"
     ]
    },
    {
     "name": "stderr",
     "output_type": "stream",
     "text": [
      "100%|██████████| 50/50 [00:00<00:00, 110.53it/s]\n"
     ]
    },
    {
     "name": "stdout",
     "output_type": "stream",
     "text": [
      "Solved 45/50\n"
     ]
    },
    {
     "name": "stderr",
     "output_type": "stream",
     "text": [
      "100%|██████████| 50/50 [00:00<00:00, 104.20it/s]\n"
     ]
    },
    {
     "name": "stdout",
     "output_type": "stream",
     "text": [
      "Solved 50/50\n",
      "Step 3, Num Unique TB: 1, Num Unique CPO: 1\n"
     ]
    },
    {
     "name": "stderr",
     "output_type": "stream",
     "text": [
      "100%|██████████| 50/50 [00:00<00:00, 239.78it/s]\n"
     ]
    },
    {
     "name": "stdout",
     "output_type": "stream",
     "text": [
      "Solved 3/50\n"
     ]
    },
    {
     "name": "stderr",
     "output_type": "stream",
     "text": [
      "100%|██████████| 50/50 [00:00<00:00, 221.43it/s]\n"
     ]
    },
    {
     "name": "stdout",
     "output_type": "stream",
     "text": [
      "Solved 2/50\n",
      "Step 4, Num Unique TB: 1, Num Unique CPO: 1\n"
     ]
    },
    {
     "name": "stderr",
     "output_type": "stream",
     "text": [
      "100%|██████████| 50/50 [00:00<00:00, 106.74it/s]\n"
     ]
    },
    {
     "name": "stdout",
     "output_type": "stream",
     "text": [
      "Solved 50/50\n"
     ]
    },
    {
     "name": "stderr",
     "output_type": "stream",
     "text": [
      "100%|██████████| 50/50 [00:05<00:00,  8.63it/s]\n"
     ]
    },
    {
     "name": "stdout",
     "output_type": "stream",
     "text": [
      "Solved 22/50\n",
      "Step 5, Num Unique TB: 1, Num Unique CPO: 1\n"
     ]
    },
    {
     "name": "stderr",
     "output_type": "stream",
     "text": [
      "100%|██████████| 50/50 [00:00<00:00, 103.17it/s]\n"
     ]
    },
    {
     "name": "stdout",
     "output_type": "stream",
     "text": [
      "Solved 50/50\n"
     ]
    },
    {
     "name": "stderr",
     "output_type": "stream",
     "text": [
      "100%|██████████| 50/50 [00:00<00:00, 102.96it/s]\n"
     ]
    },
    {
     "name": "stdout",
     "output_type": "stream",
     "text": [
      "Solved 50/50\n",
      "Step 6, Num Unique TB: 1, Num Unique CPO: 1\n"
     ]
    },
    {
     "name": "stderr",
     "output_type": "stream",
     "text": [
      "100%|██████████| 50/50 [00:00<00:00, 109.87it/s]\n"
     ]
    },
    {
     "name": "stdout",
     "output_type": "stream",
     "text": [
      "Solved 48/50\n"
     ]
    },
    {
     "name": "stderr",
     "output_type": "stream",
     "text": [
      "100%|██████████| 50/50 [00:18<00:00,  2.66it/s]\n"
     ]
    },
    {
     "name": "stdout",
     "output_type": "stream",
     "text": [
      "Solved 26/50\n",
      "Step 7, Num Unique TB: 1, Num Unique CPO: 1\n"
     ]
    },
    {
     "name": "stderr",
     "output_type": "stream",
     "text": [
      "100%|██████████| 50/50 [00:00<00:00, 149.77it/s]\n"
     ]
    },
    {
     "name": "stdout",
     "output_type": "stream",
     "text": [
      "Solved 2/50\n"
     ]
    },
    {
     "name": "stderr",
     "output_type": "stream",
     "text": [
      "100%|██████████| 50/50 [00:00<00:00, 185.55it/s]\n"
     ]
    },
    {
     "name": "stdout",
     "output_type": "stream",
     "text": [
      "Solved 0/50\n",
      "Step 8, Num Unique TB: 0, Num Unique CPO: 1\n"
     ]
    },
    {
     "name": "stderr",
     "output_type": "stream",
     "text": [
      "100%|██████████| 50/50 [00:00<00:00, 99.91it/s] \n"
     ]
    },
    {
     "name": "stdout",
     "output_type": "stream",
     "text": [
      "Solved 50/50\n"
     ]
    },
    {
     "name": "stderr",
     "output_type": "stream",
     "text": [
      " 84%|████████▍ | 42/50 [00:23<00:00, 17.73it/s]"
     ]
    },
    {
     "ename": "",
     "evalue": "",
     "output_type": "error",
     "traceback": [
      "\u001b[1;31mThe Kernel crashed while executing code in the current cell or a previous cell. \n",
      "\u001b[1;31mPlease review the code in the cell(s) to identify a possible cause of the failure. \n",
      "\u001b[1;31mClick <a href='https://aka.ms/vscodeJupyterKernelCrash'>here</a> for more info. \n",
      "\u001b[1;31mView Jupyter <a href='command:jupyter.viewOutput'>log</a> for further details."
     ]
    }
   ],
   "source": [
    "tb, cpo = check_diversity(domain)"
   ]
  },
  {
   "cell_type": "code",
   "execution_count": 31,
   "metadata": {},
   "outputs": [
    {
     "name": "stderr",
     "output_type": "stream",
     "text": [
      "/tmp/ipykernel_198304/483784046.py:2: FutureWarning: You are using `torch.load` with `weights_only=False` (the current default value), which uses the default pickle module implicitly. It is possible to construct malicious pickle data which will execute arbitrary code during unpickling (See https://github.com/pytorch/pytorch/blob/main/SECURITY.md#untrusted-models for more details). In a future release, the default value for `weights_only` will be flipped to `True`. This limits the functions that could be executed during unpickling. Arbitrary objects will no longer be allowed to be loaded via this mode unless they are explicitly allowlisted by the user via `torch.serialization.add_safe_globals`. We recommend you start setting `weights_only=True` for any use case where you don't have full control of the loaded file. Please open an issue on GitHub for any issues related to this experimental feature.\n",
      "  policy = torch.load(filename, map_location=torch.device('cpu'))\n"
     ]
    },
    {
     "name": "stdout",
     "output_type": "stream",
     "text": [
      "38\n"
     ]
    },
    {
     "name": "stderr",
     "output_type": "stream",
     "text": [
      "100%|██████████| 50/50 [00:03<00:00, 12.81it/s]"
     ]
    },
    {
     "name": "stdout",
     "output_type": "stream",
     "text": [
      "Solved 44/50\n"
     ]
    },
    {
     "name": "stderr",
     "output_type": "stream",
     "text": [
      "\n"
     ]
    }
   ],
   "source": [
    "cpo_results = get_results(cpo_filename, cpo_tactics_filename, domain, eval_interval)"
   ]
  },
  {
   "cell_type": "code",
   "execution_count": 34,
   "metadata": {},
   "outputs": [
    {
     "data": {
      "text/plain": [
       "(Step(arrows=('eval',), arguments=('?a@*',), result='?0', branch=None),\n",
       " Step(arrows=('rewrite',), arguments=('?0', '?a@*'), result='?1', branch=None))"
      ]
     },
     "execution_count": 34,
     "metadata": {},
     "output_type": "execute_result"
    }
   ],
   "source": [
    "cpo_results[1][0].steps"
   ]
  },
  {
   "cell_type": "code",
   "execution_count": 35,
   "metadata": {},
   "outputs": [
    {
     "data": {
      "text/plain": [
       "(Step(arrows=('tactic000',), arguments=('?a',), result='?0', branch=None),\n",
       " Step(arrows=('tactic000',), arguments=('?0',), result='?1', branch=None))"
      ]
     },
     "execution_count": 35,
     "metadata": {},
     "output_type": "execute_result"
    }
   ],
   "source": [
    "cpo_results[1][1].steps"
   ]
  },
  {
   "cell_type": "code",
   "execution_count": 39,
   "metadata": {},
   "outputs": [
    {
     "data": {
      "text/plain": [
       "(Step(arrows=('tactic025',), arguments=('?a', '?b'), result='?0', branch=None),\n",
       " Step(arrows=('tactic022',), arguments=('?0', '?c'), result='?1', branch=None))"
      ]
     },
     "execution_count": 39,
     "metadata": {},
     "output_type": "execute_result"
    }
   ],
   "source": [
    "cpo_results[1][30].steps"
   ]
  },
  {
   "cell_type": "code",
   "execution_count": 40,
   "metadata": {},
   "outputs": [
    {
     "data": {
      "text/plain": [
       "(Step(arrows=('tactic014',), arguments=('?a', '?b'), result='?0', branch=None),\n",
       " Step(arrows=('tactic020',), arguments=('?0', '?c'), result='?1', branch=None))"
      ]
     },
     "execution_count": 40,
     "metadata": {},
     "output_type": "execute_result"
    }
   ],
   "source": [
    "cpo_results[1][27].steps"
   ]
  },
  {
   "cell_type": "code",
   "execution_count": 24,
   "metadata": {},
   "outputs": [
    {
     "data": {
      "text/plain": [
       "'G:(= x ?)\\n(= (+ (/ x 8) -3) -2)'"
      ]
     },
     "execution_count": 24,
     "metadata": {},
     "output_type": "execute_result"
    }
   ],
   "source": [
    "cpo_results.episodes[0].states[0]"
   ]
  },
  {
   "cell_type": "code",
   "execution_count": 25,
   "metadata": {},
   "outputs": [],
   "source": [
    "success_traj = [e for e in cpo_results.episodes if e.success]"
   ]
  },
  {
   "cell_type": "code",
   "execution_count": 27,
   "metadata": {},
   "outputs": [
    {
     "data": {
      "text/plain": [
       "[['G:(= x ?)\\n(= (+ (/ x 8) -3) -2)',\n",
       "  'G:(= x ?)\\n(= (+ (/ x 8) -3) -2)\\ntactic030:-###',\n",
       "  'G:(= x ?)\\n(= (+ (/ x 8) -3) -2)\\ntactic030:-(= x 8)'],\n",
       " ['G:(= x ?)\\n(= (+ (/ x 8) -3) -2)',\n",
       "  'G:(= x ?)\\n(= (+ (/ x 8) -3) -2)\\ntactic030:-###',\n",
       "  'G:(= x ?)\\n(= (+ (/ x 8) -3) -2)\\ntactic030:-(= x 8)'],\n",
       " ['G:(= x ?)\\n(= (+ (/ x 8) -3) -2)',\n",
       "  'G:(= x ?)\\n(= (+ (/ x 8) -3) -2)\\ntactic030:-###',\n",
       "  'G:(= x ?)\\n(= (+ (/ x 8) -3) -2)\\ntactic030:-(= x 8)'],\n",
       " ['G:(= x ?)\\n(= (+ (/ x 8) -3) -2)',\n",
       "  'G:(= x ?)\\n(= (+ (/ x 8) -3) -2)\\ntactic030:-###',\n",
       "  'G:(= x ?)\\n(= (+ (/ x 8) -3) -2)\\ntactic030:-(= x 8)'],\n",
       " ['G:(= x ?)\\n(= (+ (/ x 8) -3) -2)',\n",
       "  'G:(= x ?)\\n(= (+ (/ x 8) -3) -2)\\ntactic030:-###',\n",
       "  'G:(= x ?)\\n(= (+ (/ x 8) -3) -2)\\ntactic030:-(= x 8)'],\n",
       " ['G:(= x ?)\\n(= (+ (/ x 8) -3) -2)',\n",
       "  'G:(= x ?)\\n(= (+ (/ x 8) -3) -2)\\ntactic030:-###',\n",
       "  'G:(= x ?)\\n(= (+ (/ x 8) -3) -2)\\ntactic030:-(= x 8)'],\n",
       " ['G:(= x ?)\\n(= (+ (/ x 8) -3) -2)',\n",
       "  'G:(= x ?)\\n(= (+ (/ x 8) -3) -2)\\ntactic030:-###',\n",
       "  'G:(= x ?)\\n(= (+ (/ x 8) -3) -2)\\ntactic030:-(= x 8)'],\n",
       " ['G:(= x ?)\\n(= (+ (/ x 8) -3) -2)',\n",
       "  'G:(= x ?)\\n(= (+ (/ x 8) -3) -2)\\ntactic030:-###',\n",
       "  'G:(= x ?)\\n(= (+ (/ x 8) -3) -2)\\ntactic030:-(= x 8)'],\n",
       " ['G:(= x ?)\\n(= (+ (/ x 8) -3) -2)',\n",
       "  'G:(= x ?)\\n(= (+ (/ x 8) -3) -2)\\ntactic030:-###',\n",
       "  'G:(= x ?)\\n(= (+ (/ x 8) -3) -2)\\ntactic030:-(= x 8)'],\n",
       " ['G:(= x ?)\\n(= (+ (/ x 8) -3) -2)',\n",
       "  'G:(= x ?)\\n(= (+ (/ x 8) -3) -2)\\ntactic030:-###',\n",
       "  'G:(= x ?)\\n(= (+ (/ x 8) -3) -2)\\ntactic030:-(= x 8)'],\n",
       " ['G:(= x ?)\\n(= (+ (/ x 8) -3) -2)',\n",
       "  'G:(= x ?)\\n(= (+ (/ x 8) -3) -2)\\ntactic030:-###',\n",
       "  'G:(= x ?)\\n(= (+ (/ x 8) -3) -2)\\ntactic030:-(= x 8)'],\n",
       " ['G:(= x ?)\\n(= (+ (/ x 8) -3) -2)',\n",
       "  'G:(= x ?)\\n(= (+ (/ x 8) -3) -2)\\ntactic030:-###',\n",
       "  'G:(= x ?)\\n(= (+ (/ x 8) -3) -2)\\ntactic030:-(= x 8)'],\n",
       " ['G:(= x ?)\\n(= (+ (/ x 8) -3) -2)',\n",
       "  'G:(= x ?)\\n(= (+ (/ x 8) -3) -2)\\ntactic030:-###',\n",
       "  'G:(= x ?)\\n(= (+ (/ x 8) -3) -2)\\ntactic030:-(= x 8)'],\n",
       " ['G:(= x ?)\\n(= (+ (/ x 8) -3) -2)',\n",
       "  'G:(= x ?)\\n(= (+ (/ x 8) -3) -2)\\ntactic030:-###',\n",
       "  'G:(= x ?)\\n(= (+ (/ x 8) -3) -2)\\ntactic030:-(= x 8)'],\n",
       " ['G:(= x ?)\\n(= (+ (/ x 8) -3) -2)',\n",
       "  'G:(= x ?)\\n(= (+ (/ x 8) -3) -2)\\ntactic030:-###',\n",
       "  'G:(= x ?)\\n(= (+ (/ x 8) -3) -2)\\ntactic030:-(= x 8)'],\n",
       " ['G:(= x ?)\\n(= (+ (/ x 8) -3) -2)',\n",
       "  'G:(= x ?)\\n(= (+ (/ x 8) -3) -2)\\ntactic030:-###',\n",
       "  'G:(= x ?)\\n(= (+ (/ x 8) -3) -2)\\ntactic030:-(= x 8)'],\n",
       " ['G:(= x ?)\\n(= (+ (/ x 8) -3) -2)',\n",
       "  'G:(= x ?)\\n(= (+ (/ x 8) -3) -2)\\ntactic030:-###',\n",
       "  'G:(= x ?)\\n(= (+ (/ x 8) -3) -2)\\ntactic030:-(= x 8)'],\n",
       " ['G:(= x ?)\\n(= (+ (/ x 8) -3) -2)',\n",
       "  'G:(= x ?)\\n(= (+ (/ x 8) -3) -2)\\ntactic030:-###',\n",
       "  'G:(= x ?)\\n(= (+ (/ x 8) -3) -2)\\ntactic030:-(= x 8)'],\n",
       " ['G:(= x ?)\\n(= (+ (/ x 8) -3) -2)',\n",
       "  'G:(= x ?)\\n(= (+ (/ x 8) -3) -2)\\ntactic030:-###',\n",
       "  'G:(= x ?)\\n(= (+ (/ x 8) -3) -2)\\ntactic030:-(= x 8)'],\n",
       " ['G:(= x ?)\\n(= (+ (/ x 8) -3) -2)',\n",
       "  'G:(= x ?)\\n(= (+ (/ x 8) -3) -2)\\ntactic030:-###',\n",
       "  'G:(= x ?)\\n(= (+ (/ x 8) -3) -2)\\ntactic030:-(= x 8)'],\n",
       " ['G:(= x ?)\\n(= (+ (/ x 8) -3) -2)',\n",
       "  'G:(= x ?)\\n(= (+ (/ x 8) -3) -2)\\ntactic030:-###',\n",
       "  'G:(= x ?)\\n(= (+ (/ x 8) -3) -2)\\ntactic030:-(= x 8)'],\n",
       " ['G:(= x ?)\\n(= (+ (/ x 8) -3) -2)',\n",
       "  'G:(= x ?)\\n(= (+ (/ x 8) -3) -2)\\ntactic030:-###',\n",
       "  'G:(= x ?)\\n(= (+ (/ x 8) -3) -2)\\ntactic030:-(= x 8)'],\n",
       " ['G:(= x ?)\\n(= (+ (/ x 8) -3) -2)',\n",
       "  'G:(= x ?)\\n(= (+ (/ x 8) -3) -2)\\ntactic030:-###',\n",
       "  'G:(= x ?)\\n(= (+ (/ x 8) -3) -2)\\ntactic030:-(= x 8)'],\n",
       " ['G:(= x ?)\\n(= (+ (/ x 8) -3) -2)',\n",
       "  'G:(= x ?)\\n(= (+ (/ x 8) -3) -2)\\ntactic030:-###',\n",
       "  'G:(= x ?)\\n(= (+ (/ x 8) -3) -2)\\ntactic030:-(= x 8)'],\n",
       " ['G:(= x ?)\\n(= (+ (/ x 8) -3) -2)',\n",
       "  'G:(= x ?)\\n(= (+ (/ x 8) -3) -2)\\ntactic030:-###',\n",
       "  'G:(= x ?)\\n(= (+ (/ x 8) -3) -2)\\ntactic030:-(= x 8)'],\n",
       " ['G:(= x ?)\\n(= (+ (/ x 8) -3) -2)',\n",
       "  'G:(= x ?)\\n(= (+ (/ x 8) -3) -2)\\ntactic030:-###',\n",
       "  'G:(= x ?)\\n(= (+ (/ x 8) -3) -2)\\ntactic030:-(= x 8)'],\n",
       " ['G:(= x ?)\\n(= (+ (/ x 8) -3) -2)',\n",
       "  'G:(= x ?)\\n(= (+ (/ x 8) -3) -2)\\ntactic030:-###',\n",
       "  'G:(= x ?)\\n(= (+ (/ x 8) -3) -2)\\ntactic030:-(= x 8)'],\n",
       " ['G:(= x ?)\\n(= (+ (/ x 8) -3) -2)',\n",
       "  'G:(= x ?)\\n(= (+ (/ x 8) -3) -2)\\ntactic030:-###',\n",
       "  'G:(= x ?)\\n(= (+ (/ x 8) -3) -2)\\ntactic030:-(= x 8)'],\n",
       " ['G:(= x ?)\\n(= (+ (/ x 8) -3) -2)',\n",
       "  'G:(= x ?)\\n(= (+ (/ x 8) -3) -2)\\ntactic030:-###',\n",
       "  'G:(= x ?)\\n(= (+ (/ x 8) -3) -2)\\ntactic030:-(= x 8)'],\n",
       " ['G:(= x ?)\\n(= (+ (/ x 8) -3) -2)',\n",
       "  'G:(= x ?)\\n(= (+ (/ x 8) -3) -2)\\ntactic030:-###',\n",
       "  'G:(= x ?)\\n(= (+ (/ x 8) -3) -2)\\ntactic030:-(= x 8)'],\n",
       " ['G:(= x ?)\\n(= (+ (/ x 8) -3) -2)',\n",
       "  'G:(= x ?)\\n(= (+ (/ x 8) -3) -2)\\ntactic030:-###',\n",
       "  'G:(= x ?)\\n(= (+ (/ x 8) -3) -2)\\ntactic030:-(= x 8)'],\n",
       " ['G:(= x ?)\\n(= (+ (/ x 8) -3) -2)',\n",
       "  'G:(= x ?)\\n(= (+ (/ x 8) -3) -2)\\ntactic030:-###',\n",
       "  'G:(= x ?)\\n(= (+ (/ x 8) -3) -2)\\ntactic030:-(= x 8)'],\n",
       " ['G:(= x ?)\\n(= (+ (/ x 8) -3) -2)',\n",
       "  'G:(= x ?)\\n(= (+ (/ x 8) -3) -2)\\ntactic030:-###',\n",
       "  'G:(= x ?)\\n(= (+ (/ x 8) -3) -2)\\ntactic030:-(= x 8)'],\n",
       " ['G:(= x ?)\\n(= (+ (/ x 8) -3) -2)',\n",
       "  'G:(= x ?)\\n(= (+ (/ x 8) -3) -2)\\ntactic030:-###',\n",
       "  'G:(= x ?)\\n(= (+ (/ x 8) -3) -2)\\ntactic030:-(= x 8)'],\n",
       " ['G:(= x ?)\\n(= (+ (/ x 8) -3) -2)',\n",
       "  'G:(= x ?)\\n(= (+ (/ x 8) -3) -2)\\ntactic030:-###',\n",
       "  'G:(= x ?)\\n(= (+ (/ x 8) -3) -2)\\ntactic030:-(= x 8)'],\n",
       " ['G:(= x ?)\\n(= (+ (/ x 8) -3) -2)',\n",
       "  'G:(= x ?)\\n(= (+ (/ x 8) -3) -2)\\ntactic030:-###',\n",
       "  'G:(= x ?)\\n(= (+ (/ x 8) -3) -2)\\ntactic030:-(= x 8)'],\n",
       " ['G:(= x ?)\\n(= (+ (/ x 8) -3) -2)',\n",
       "  'G:(= x ?)\\n(= (+ (/ x 8) -3) -2)\\ntactic030:-###',\n",
       "  'G:(= x ?)\\n(= (+ (/ x 8) -3) -2)\\ntactic030:-(= x 8)'],\n",
       " ['G:(= x ?)\\n(= (+ (/ x 8) -3) -2)',\n",
       "  'G:(= x ?)\\n(= (+ (/ x 8) -3) -2)\\ntactic030:-###',\n",
       "  'G:(= x ?)\\n(= (+ (/ x 8) -3) -2)\\ntactic030:-(= x 8)'],\n",
       " ['G:(= x ?)\\n(= (+ (/ x 8) -3) -2)',\n",
       "  'G:(= x ?)\\n(= (+ (/ x 8) -3) -2)\\ntactic030:-###',\n",
       "  'G:(= x ?)\\n(= (+ (/ x 8) -3) -2)\\ntactic030:-(= x 8)'],\n",
       " ['G:(= x ?)\\n(= (+ (/ x 8) -3) -2)',\n",
       "  'G:(= x ?)\\n(= (+ (/ x 8) -3) -2)\\ntactic030:-###',\n",
       "  'G:(= x ?)\\n(= (+ (/ x 8) -3) -2)\\ntactic030:-(= x 8)'],\n",
       " ['G:(= x ?)\\n(= (+ (/ x 8) -3) -2)',\n",
       "  'G:(= x ?)\\n(= (+ (/ x 8) -3) -2)\\ntactic030:-###',\n",
       "  'G:(= x ?)\\n(= (+ (/ x 8) -3) -2)\\ntactic030:-(= x 8)'],\n",
       " ['G:(= x ?)\\n(= (+ (/ x 8) -3) -2)',\n",
       "  'G:(= x ?)\\n(= (+ (/ x 8) -3) -2)\\ntactic030:-###',\n",
       "  'G:(= x ?)\\n(= (+ (/ x 8) -3) -2)\\ntactic030:-(= x 8)'],\n",
       " ['G:(= x ?)\\n(= (+ (/ x 8) -3) -2)',\n",
       "  'G:(= x ?)\\n(= (+ (/ x 8) -3) -2)\\ntactic030:-###',\n",
       "  'G:(= x ?)\\n(= (+ (/ x 8) -3) -2)\\ntactic030:-(= x 8)'],\n",
       " ['G:(= x ?)\\n(= (+ (/ x 8) -3) -2)',\n",
       "  'G:(= x ?)\\n(= (+ (/ x 8) -3) -2)\\ntactic030:-###',\n",
       "  'G:(= x ?)\\n(= (+ (/ x 8) -3) -2)\\ntactic030:-(= x 8)'],\n",
       " ['G:(= x ?)\\n(= (+ (/ x 8) -3) -2)',\n",
       "  'G:(= x ?)\\n(= (+ (/ x 8) -3) -2)\\ntactic030:-###',\n",
       "  'G:(= x ?)\\n(= (+ (/ x 8) -3) -2)\\ntactic030:-(= x 8)'],\n",
       " ['G:(= x ?)\\n(= (+ (/ x 8) -3) -2)',\n",
       "  'G:(= x ?)\\n(= (+ (/ x 8) -3) -2)\\ntactic030:-###',\n",
       "  'G:(= x ?)\\n(= (+ (/ x 8) -3) -2)\\ntactic030:-(= x 8)'],\n",
       " ['G:(= x ?)\\n(= (+ (/ x 8) -3) -2)',\n",
       "  'G:(= x ?)\\n(= (+ (/ x 8) -3) -2)\\ntactic030:-###',\n",
       "  'G:(= x ?)\\n(= (+ (/ x 8) -3) -2)\\ntactic030:-(= x 8)'],\n",
       " ['G:(= x ?)\\n(= (+ (/ x 8) -3) -2)',\n",
       "  'G:(= x ?)\\n(= (+ (/ x 8) -3) -2)\\ntactic030:-###',\n",
       "  'G:(= x ?)\\n(= (+ (/ x 8) -3) -2)\\ntactic030:-(= x 8)'],\n",
       " ['G:(= x ?)\\n(= (+ (/ x 8) -3) -2)',\n",
       "  'G:(= x ?)\\n(= (+ (/ x 8) -3) -2)\\ntactic030:-###',\n",
       "  'G:(= x ?)\\n(= (+ (/ x 8) -3) -2)\\ntactic030:-(= x 8)']]"
      ]
     },
     "execution_count": 27,
     "metadata": {},
     "output_type": "execute_result"
    }
   ],
   "source": [
    "[e.states for e in success_traj]"
   ]
  },
  {
   "cell_type": "code",
   "execution_count": 14,
   "metadata": {},
   "outputs": [],
   "source": [
    "unsuccessful_trajs = [e for e in cpo_results.episodes if not e.success]"
   ]
  },
  {
   "cell_type": "code",
   "execution_count": 16,
   "metadata": {},
   "outputs": [
    {
     "data": {
      "text/plain": [
       "['+_assoc_r']"
      ]
     },
     "execution_count": 16,
     "metadata": {},
     "output_type": "execute_result"
    }
   ],
   "source": [
    "unsuccessful_trajs[1].actions"
   ]
  },
  {
   "cell_type": "code",
   "execution_count": null,
   "metadata": {},
   "outputs": [],
   "source": []
  }
 ],
 "metadata": {
  "kernelspec": {
   "display_name": ".venv",
   "language": "python",
   "name": "python3"
  },
  "language_info": {
   "codemirror_mode": {
    "name": "ipython",
    "version": 3
   },
   "file_extension": ".py",
   "mimetype": "text/x-python",
   "name": "python",
   "nbconvert_exporter": "python",
   "pygments_lexer": "ipython3",
   "version": "3.9.20"
  }
 },
 "nbformat": 4,
 "nbformat_minor": 2
}
